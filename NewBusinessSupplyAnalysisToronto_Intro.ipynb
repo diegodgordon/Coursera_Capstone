{
 "cells": [
  {
   "cell_type": "markdown",
   "metadata": {},
   "source": [
    "# New Business Supply Analysis in Toronto   \n",
    "## Introduction "
   ]
  },
  {
   "cell_type": "markdown",
   "metadata": {},
   "source": [
    "Big cities, like Toronto, have a higher chance to possess a saturated market in many neighborhoods, making it more difficult for new businesses to be thrive. It is key for new businesses' success to have a good balance in between demand and supply within the location they start. High demand guarantees that there is a need for the product/service, and low supply guarantees that there's not enough business in the area to satisfy customers' needs. The goal was to find geographical locations of low supply for a specific product/service, therefore offering the least amount of competition to new businesses. \n",
    "\n",
    "For example, the idea of a new restaurant/coffee shop opening up in the city of Toronto was used. Then, the top 10 neighborhoods with the highest and lowest supply of restaurants/coffee shops were calculated; therefore, areas to avoid and to consider were found. While this approach doesn't guarantee new businesses' success, it offers a range possibilities for areas of little competition. It is recommended to complement this service with additional market analysis to identify regions of high demand for the product/service offered. "
   ]
  },
  {
   "cell_type": "code",
   "execution_count": null,
   "metadata": {},
   "outputs": [],
   "source": []
  }
 ],
 "metadata": {
  "kernelspec": {
   "display_name": "Python",
   "language": "python",
   "name": "conda-env-python-py"
  },
  "language_info": {
   "codemirror_mode": {
    "name": "ipython",
    "version": 3
   },
   "file_extension": ".py",
   "mimetype": "text/x-python",
   "name": "python",
   "nbconvert_exporter": "python",
   "pygments_lexer": "ipython3",
   "version": "3.6.10"
  }
 },
 "nbformat": 4,
 "nbformat_minor": 4
}
