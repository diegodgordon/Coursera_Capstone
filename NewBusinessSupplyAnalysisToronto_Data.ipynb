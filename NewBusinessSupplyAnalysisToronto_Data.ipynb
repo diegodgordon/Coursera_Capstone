{
 "cells": [
  {
   "cell_type": "markdown",
   "metadata": {},
   "source": [
    "# New Business Supply Analysis in Toronto  \n",
    "## Data"
   ]
  },
  {
   "cell_type": "markdown",
   "metadata": {},
   "source": [
    "The raw data used to solve this problem was extracted from a Wikipedia [page](https://en.wikipedia.org/wiki/List_of_postal_codes_of_Canada:_M) that possessed all the postal codes for the city of Toronto. Each postal code had its respective borough and neighborhoods, therefore a list of all the neighborhoods that belong to the city of Toronto was obtained. The _geopy.geocoder_ library was used to convert each neighborhood's address to its coordinates (latitude, longitude). Data was cleaned and modified to obtain a _dataframe_ with four columns: 'Borough', 'Neighborhood', 'Latitude', 'Longitude' for every neighborhood in Toronto.  \n",
    "\n",
    "Also, the Foursquare API was used to retrieve information about a specific latitude and longitude. This information contained the different categories of businesses that exist within a neighborhood. Consequently, exploring each neighborhood of Toronto it was found where the highest and lowest number of specific venues ."
   ]
  },
  {
   "cell_type": "code",
   "execution_count": null,
   "metadata": {},
   "outputs": [],
   "source": []
  }
 ],
 "metadata": {
  "kernelspec": {
   "display_name": "Python",
   "language": "python",
   "name": "conda-env-python-py"
  },
  "language_info": {
   "codemirror_mode": {
    "name": "ipython",
    "version": 3
   },
   "file_extension": ".py",
   "mimetype": "text/x-python",
   "name": "python",
   "nbconvert_exporter": "python",
   "pygments_lexer": "ipython3",
   "version": "3.6.10"
  }
 },
 "nbformat": 4,
 "nbformat_minor": 4
}
